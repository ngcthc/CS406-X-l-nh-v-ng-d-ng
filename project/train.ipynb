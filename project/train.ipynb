{
 "cells": [
  {
   "cell_type": "code",
   "execution_count": 4,
   "metadata": {},
   "outputs": [
    {
     "name": "stdout",
     "output_type": "stream",
     "text": [
      "Ultralytics YOLOv8.0.231 🚀 Python-3.10.5 torch-2.0.1+cpu CPU (11th Gen Intel Core(TM) i7-1185G7 3.00GHz)\n",
      "Setup complete ✅ (8 CPUs, 15.7 GB RAM, 238.7/459.0 GB disk)\n"
     ]
    }
   ],
   "source": [
    "! git clone https://github.com/ultralytics/ultralytics.git\n",
    "! pip install ultralytics\n",
    "! pip install yaml\n",
    "! pip install os\n",
    "import ultralytics\n",
    "ultralytics.checks()"
   ]
  },
  {
   "cell_type": "code",
   "execution_count": 5,
   "metadata": {},
   "outputs": [],
   "source": [
    "# tạo file data.yaml chứa thông tin của dataset\n",
    "import yaml\n",
    "import os\n",
    "\n",
    "mapping = ['apple', 'orange', 'lemon', \n",
    "           'avocado', 'cherry', 'coconut', \n",
    "           'banana', 'watermelon', 'pineapple', \n",
    "           'kiwi', 'tomato', 'mango']\n",
    "\n",
    "dataset_info = {\n",
    "    'train': 'dataset/train/images',\n",
    "    'val': 'dataset/val/images',\n",
    "    'test': 'dataset/test/images',\n",
    "    'path': os.path.abspath('.'),\n",
    "    'nc': len(mapping),\n",
    "    'names': mapping\n",
    "}\n",
    "\n",
    "yaml_filepath = 'dataset/data.yaml'\n",
    "\n",
    "\n",
    "with open(yaml_filepath, 'w') as f:\n",
    "  doc = yaml.dump(\n",
    "      dataset_info,\n",
    "      f,\n",
    "      default_flow_style=None,\n",
    "      sort_keys=False\n",
    "  )"
   ]
  },
  {
   "cell_type": "code",
   "execution_count": 9,
   "metadata": {},
   "outputs": [
    {
     "name": "stdout",
     "output_type": "stream",
     "text": [
      "^C\n"
     ]
    }
   ],
   "source": [
    "! yolo train model=yolov8s.pt data='dataset/data.yaml' epochs=1 \n",
    "# train tượng trưng với 1 epoch, model yolov8s.pt có thể thay bằng yolov8m.pt, file yaml được tạo ở trên"
   ]
  },
  {
   "cell_type": "code",
   "execution_count": null,
   "metadata": {},
   "outputs": [],
   "source": [
    "# Thử dung model đã train để dự đoán ảnh trong thư mục test\n",
    "! yolo predict model='runs/detect/train/weights/best.pt' source='dataset/test/images/00004.jpg' \n",
    "# thay link ảnh và link model để dự đoán"
   ]
  }
 ],
 "metadata": {
  "kernelspec": {
   "display_name": "Python 3",
   "language": "python",
   "name": "python3"
  },
  "language_info": {
   "codemirror_mode": {
    "name": "ipython",
    "version": 3
   },
   "file_extension": ".py",
   "mimetype": "text/x-python",
   "name": "python",
   "nbconvert_exporter": "python",
   "pygments_lexer": "ipython3",
   "version": "3.10.5"
  }
 },
 "nbformat": 4,
 "nbformat_minor": 2
}
